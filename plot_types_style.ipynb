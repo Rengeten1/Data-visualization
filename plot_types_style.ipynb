{
 "cells": [
  {
   "cell_type": "markdown",
   "id": "8230fd71",
   "metadata": {},
   "source": [
    "# Choosing Plot Types and Custom Styles"
   ]
  },
  {
   "cell_type": "code",
   "execution_count": null,
   "id": "8f9e28af",
   "metadata": {},
   "outputs": [],
   "source": []
  }
 ],
 "metadata": {
  "kernelspec": {
   "display_name": ".venv",
   "language": "python",
   "name": "python3"
  },
  "language_info": {
   "name": "python",
   "version": "3.13.7"
  }
 },
 "nbformat": 4,
 "nbformat_minor": 5
}
